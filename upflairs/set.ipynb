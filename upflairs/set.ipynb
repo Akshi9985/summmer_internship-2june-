{
 "cells": [
  {
   "cell_type": "code",
   "execution_count": null,
   "id": "ff84a066",
   "metadata": {},
   "outputs": [],
   "source": [
    "# collection of unique items\n",
    "# immutable\n",
    "# unordered\n",
    "# no indexing\n",
    "# do not allow duplicate values\n",
    "# mathematical operations"
   ]
  },
  {
   "cell_type": "code",
   "execution_count": 1,
   "id": "1808afdd",
   "metadata": {},
   "outputs": [
    {
     "name": "stdout",
     "output_type": "stream",
     "text": [
      "{'hello', 2, 3, 1}\n",
      "<class 'set'>\n"
     ]
    }
   ],
   "source": [
    "st={\"hello\",1,2,3,True,\"hello\"}\n",
    "print(st)\n",
    "print(type(st))"
   ]
  },
  {
   "cell_type": "code",
   "execution_count": 3,
   "id": "3317245c",
   "metadata": {},
   "outputs": [
    {
     "name": "stdout",
     "output_type": "stream",
     "text": [
      "{1, 2, 3, 4, 8}\n"
     ]
    }
   ],
   "source": [
    "st={1,2,3,4}\n",
    "st.add(8)\n",
    "print(st)\n",
    "# add single element"
   ]
  },
  {
   "cell_type": "code",
   "execution_count": null,
   "id": "3f25a17f",
   "metadata": {},
   "outputs": [
    {
     "name": "stdout",
     "output_type": "stream",
     "text": [
      "{1, 2, 3, 4, 'hello', 'india'}\n"
     ]
    }
   ],
   "source": [
    "st={1,2,3,4}\n",
    "st.update([\"hello\",\"india\"])\n",
    "print(st)\n",
    "# add 2 or items"
   ]
  },
  {
   "cell_type": "code",
   "execution_count": 9,
   "id": "95a64b55",
   "metadata": {},
   "outputs": [
    {
     "name": "stdout",
     "output_type": "stream",
     "text": [
      "{1, 2, 4}\n"
     ]
    },
    {
     "ename": "KeyError",
     "evalue": "7",
     "output_type": "error",
     "traceback": [
      "\u001b[31m---------------------------------------------------------------------------\u001b[39m",
      "\u001b[31mKeyError\u001b[39m                                  Traceback (most recent call last)",
      "\u001b[36mCell\u001b[39m\u001b[36m \u001b[39m\u001b[32mIn[9]\u001b[39m\u001b[32m, line 6\u001b[39m\n\u001b[32m      4\u001b[39m st.remove(\u001b[32m3\u001b[39m)\n\u001b[32m      5\u001b[39m \u001b[38;5;28mprint\u001b[39m(st)\n\u001b[32m----> \u001b[39m\u001b[32m6\u001b[39m \u001b[43mst\u001b[49m\u001b[43m.\u001b[49m\u001b[43mremove\u001b[49m\u001b[43m(\u001b[49m\u001b[32;43m7\u001b[39;49m\u001b[43m)\u001b[49m\n\u001b[32m      7\u001b[39m \u001b[38;5;28mprint\u001b[39m(st)\n",
      "\u001b[31mKeyError\u001b[39m: 7"
     ]
    }
   ],
   "source": [
    "# remove-item delete element does not present giv error\n",
    "# discard-item delete element does not present they not give errors\n",
    "st={1,2,3,4}\n",
    "st.remove(3)\n",
    "print(st)\n",
    "st.remove(7)\n",
    "print(st)"
   ]
  },
  {
   "cell_type": "code",
   "execution_count": 10,
   "id": "78d00f4e",
   "metadata": {},
   "outputs": [
    {
     "name": "stdout",
     "output_type": "stream",
     "text": [
      "{1, 2, 4}\n",
      "{1, 2, 4}\n"
     ]
    }
   ],
   "source": [
    "st={1,2,3,4}\n",
    "st.discard(3)\n",
    "print(st)\n",
    "st.discard(7)\n",
    "print(st)"
   ]
  },
  {
   "cell_type": "code",
   "execution_count": 12,
   "id": "c06ff750",
   "metadata": {},
   "outputs": [
    {
     "name": "stdout",
     "output_type": "stream",
     "text": [
      "{2, 3, 4}\n"
     ]
    }
   ],
   "source": [
    "st={1,2,3,4}\n",
    "st.pop()\n",
    "print(st)"
   ]
  },
  {
   "cell_type": "code",
   "execution_count": 14,
   "id": "42444d5f",
   "metadata": {},
   "outputs": [
    {
     "data": {
      "text/plain": [
       "{1, 2, 3, 4, 5}"
      ]
     },
     "execution_count": 14,
     "metadata": {},
     "output_type": "execute_result"
    }
   ],
   "source": [
    "st1={1,2,3}\n",
    "st2={3,4,5}\n",
    "st1.union(st2)"
   ]
  },
  {
   "cell_type": "code",
   "execution_count": 15,
   "id": "e5535b17",
   "metadata": {},
   "outputs": [
    {
     "data": {
      "text/plain": [
       "{3}"
      ]
     },
     "execution_count": 15,
     "metadata": {},
     "output_type": "execute_result"
    }
   ],
   "source": [
    "st1.intersection(st2)"
   ]
  },
  {
   "cell_type": "code",
   "execution_count": 16,
   "id": "aed3a090",
   "metadata": {},
   "outputs": [
    {
     "data": {
      "text/plain": [
       "{1, 2}"
      ]
     },
     "execution_count": 16,
     "metadata": {},
     "output_type": "execute_result"
    }
   ],
   "source": [
    "st1.difference(st2)"
   ]
  },
  {
   "cell_type": "code",
   "execution_count": 17,
   "id": "f15ae9ca",
   "metadata": {},
   "outputs": [
    {
     "data": {
      "text/plain": [
       "{1, 2, 4, 5}"
      ]
     },
     "execution_count": 17,
     "metadata": {},
     "output_type": "execute_result"
    }
   ],
   "source": [
    "st1.symmetric_difference(st2)"
   ]
  },
  {
   "cell_type": "code",
   "execution_count": 27,
   "id": "6bc831c4",
   "metadata": {},
   "outputs": [
    {
     "data": {
      "text/plain": [
       "False"
      ]
     },
     "execution_count": 27,
     "metadata": {},
     "output_type": "execute_result"
    }
   ],
   "source": [
    "a={1,5,7,9}\n",
    "b={1,3,6,8}\n",
    "a.issubset(b)\n",
    "# a.issuperset(b)"
   ]
  },
  {
   "cell_type": "code",
   "execution_count": 28,
   "id": "3697d1b8",
   "metadata": {},
   "outputs": [
    {
     "data": {
      "text/plain": [
       "False"
      ]
     },
     "execution_count": 28,
     "metadata": {},
     "output_type": "execute_result"
    }
   ],
   "source": [
    "a.isdisjoint(b)"
   ]
  },
  {
   "cell_type": "code",
   "execution_count": 32,
   "id": "01b95e00",
   "metadata": {},
   "outputs": [
    {
     "name": "stdout",
     "output_type": "stream",
     "text": [
      "{2, 3}\n"
     ]
    }
   ],
   "source": [
    "a={1,2,3}\n",
    "b={2,3,4}\n",
    "a.intersection_update(b)\n",
    "print(a)"
   ]
  }
 ],
 "metadata": {
  "kernelspec": {
   "display_name": "Python 3",
   "language": "python",
   "name": "python3"
  },
  "language_info": {
   "codemirror_mode": {
    "name": "ipython",
    "version": 3
   },
   "file_extension": ".py",
   "mimetype": "text/x-python",
   "name": "python",
   "nbconvert_exporter": "python",
   "pygments_lexer": "ipython3",
   "version": "3.12.3"
  }
 },
 "nbformat": 4,
 "nbformat_minor": 5
}
