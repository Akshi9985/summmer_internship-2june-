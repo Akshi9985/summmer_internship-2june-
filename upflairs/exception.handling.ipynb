{
 "cells": [
  {
   "cell_type": "code",
   "execution_count": null,
   "id": "574f73d2",
   "metadata": {},
   "outputs": [],
   "source": [
    "# Exception handling ---- error handling----error handling in python\n",
    "# try,except,else,finally"
   ]
  },
  {
   "cell_type": "code",
   "execution_count": null,
   "id": "33fba177",
   "metadata": {},
   "outputs": [],
   "source": [
    "# try-code that miht cause an error \n",
    "# except= code to handle the error\n",
    "# else-code to eecute if no erroe\n",
    "# finally- code to execute regardless of Error\n"
   ]
  },
  {
   "cell_type": "code",
   "execution_count": 1,
   "id": "44896976",
   "metadata": {},
   "outputs": [
    {
     "name": "stdout",
     "output_type": "stream",
     "text": [
      "error\n",
      "finally\n"
     ]
    }
   ],
   "source": [
    "try:\n",
    "    print(10/0)\n",
    "except:\n",
    "    print(\"error\")\n",
    "else:\n",
    "    print(\"no error\")\n",
    "finally:\n",
    "    print(\"finally\")"
   ]
  },
  {
   "cell_type": "code",
   "execution_count": 2,
   "id": "5e68a50a",
   "metadata": {},
   "outputs": [
    {
     "name": "stdout",
     "output_type": "stream",
     "text": [
      "5.0\n",
      "no error\n",
      "finally\n"
     ]
    }
   ],
   "source": [
    "try:\n",
    "    print(10/2)\n",
    "except:\n",
    "    print(\"error\")\n",
    "else:\n",
    "    print(\"no error\")\n",
    "finally:\n",
    "    print(\"finally\")"
   ]
  },
  {
   "cell_type": "code",
   "execution_count": 5,
   "id": "120c489c",
   "metadata": {},
   "outputs": [
    {
     "name": "stdout",
     "output_type": "stream",
     "text": [
      "error ... division by zero\n",
      "finally\n"
     ]
    }
   ],
   "source": [
    "try:\n",
    "    print(10/0)\n",
    "except Exception as e: #nickname\n",
    "    print(\"error\",\"...\",e)\n",
    "else:\n",
    "    print(\"no error\")\n",
    "finally:\n",
    "    print(\"finally\")"
   ]
  },
  {
   "cell_type": "code",
   "execution_count": 7,
   "id": "d6629ce0",
   "metadata": {},
   "outputs": [
    {
     "name": "stdout",
     "output_type": "stream",
     "text": [
      "error ... name 'printg' is not defined\n",
      "finally\n"
     ]
    }
   ],
   "source": [
    "try:\n",
    "    printg(hello)\n",
    "except Exception as e: #nickname\n",
    "    print(\"error\",\"...\",e)\n",
    "else:\n",
    "    print(\"no error\")\n",
    "finally:\n",
    "    print(\"finally\")"
   ]
  },
  {
   "cell_type": "code",
   "execution_count": null,
   "id": "c3dfd608",
   "metadata": {},
   "outputs": [],
   "source": []
  }
 ],
 "metadata": {
  "kernelspec": {
   "display_name": "Python 3",
   "language": "python",
   "name": "python3"
  },
  "language_info": {
   "codemirror_mode": {
    "name": "ipython",
    "version": 3
   },
   "file_extension": ".py",
   "mimetype": "text/x-python",
   "name": "python",
   "nbconvert_exporter": "python",
   "pygments_lexer": "ipython3",
   "version": "3.12.3"
  }
 },
 "nbformat": 4,
 "nbformat_minor": 5
}
