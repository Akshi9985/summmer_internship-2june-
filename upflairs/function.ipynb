{
 "cells": [
  {
   "cell_type": "code",
   "execution_count": null,
   "id": "b5ef4684",
   "metadata": {},
   "outputs": [],
   "source": [
    "# block of statement that perform specific task\n",
    "# built in function-predefined\n",
    "# user defined- defined by the user\n",
    "# anonymous function-lembda\n",
    "# map, reduce,filter,enumerate"
   ]
  },
  {
   "cell_type": "code",
   "execution_count": 1,
   "id": "ff6bf6da",
   "metadata": {},
   "outputs": [
    {
     "name": "stdout",
     "output_type": "stream",
     "text": [
      "hello from alam sir\n"
     ]
    }
   ],
   "source": [
    "def hello():#define the function\n",
    "    print(\"hello from alam sir\")\n",
    "hello()\n",
    "    \n"
   ]
  },
  {
   "cell_type": "code",
   "execution_count": 8,
   "id": "07f53665",
   "metadata": {},
   "outputs": [
    {
     "name": "stdout",
     "output_type": "stream",
     "text": [
      "12\n"
     ]
    }
   ],
   "source": [
    "def add():\n",
    "    a = 5\n",
    "    b = 7\n",
    "    print(a + b)\n",
    "\n",
    "add()\n"
   ]
  },
  {
   "cell_type": "code",
   "execution_count": null,
   "id": "655f755c",
   "metadata": {},
   "outputs": [],
   "source": [
    "# parameter-variables information jo function hei function bnate time pass krte hein\n",
    "# arguments-"
   ]
  },
  {
   "cell_type": "code",
   "execution_count": 14,
   "id": "703efc18",
   "metadata": {},
   "outputs": [
    {
     "name": "stdout",
     "output_type": "stream",
     "text": [
      "60\n"
     ]
    }
   ],
   "source": [
    "def add(a,b):\n",
    "    print(a+b)\n",
    "    \n",
    "add(10,50)"
   ]
  },
  {
   "cell_type": "code",
   "execution_count": null,
   "id": "899267de",
   "metadata": {},
   "outputs": [],
   "source": [
    "# arbitrary we do not have an idea how much function will pass\n",
    "# arbitrary-*....\n",
    "# keyword \n"
   ]
  },
  {
   "cell_type": "code",
   "execution_count": 16,
   "id": "07dd60fd",
   "metadata": {},
   "outputs": [
    {
     "name": "stdout",
     "output_type": "stream",
     "text": [
      "the youngest child is aaradhya\n"
     ]
    }
   ],
   "source": [
    "def family(*kids):\n",
    "    print(\"the youngest child is \"+kids[2])\n",
    "\n",
    "family(\"akshi\",\"sujal\",\"aaradhya\")\n",
    "    "
   ]
  },
  {
   "cell_type": "code",
   "execution_count": 17,
   "id": "00db2bb8",
   "metadata": {},
   "outputs": [
    {
     "name": "stdout",
     "output_type": "stream",
     "text": [
      "the youngest child is aaradhya\n"
     ]
    }
   ],
   "source": [
    "def family(child1,child2,child3):\n",
    "    print(\"the youngest child is \"+ child3)\n",
    "family(child1=\"akshi\",child2=\"sujal\",child3=\"aaradhya\")"
   ]
  },
  {
   "cell_type": "code",
   "execution_count": 19,
   "id": "fee2a26d",
   "metadata": {},
   "outputs": [
    {
     "name": "stdout",
     "output_type": "stream",
     "text": [
      "the youngest child is aaradhya\n"
     ]
    }
   ],
   "source": [
    "def family(**kids):\n",
    "    print(\"the youngest child is \"+kids[\"child3\"])\n",
    "family(child1=\"akshi\",child2=\"sujal\",child3=\"aaradhya\")"
   ]
  },
  {
   "cell_type": "code",
   "execution_count": 23,
   "id": "fe2c5d56",
   "metadata": {},
   "outputs": [
    {
     "name": "stdout",
     "output_type": "stream",
     "text": [
      "my fav sport iscricket\n"
     ]
    }
   ],
   "source": [
    "# default parameter #without argument error\n",
    "def sports(sport=\"cricket\"):\n",
    "    print(\"my fav sport is\" +sport)\n",
    "sports()"
   ]
  },
  {
   "cell_type": "code",
   "execution_count": 28,
   "id": "d1896798",
   "metadata": {},
   "outputs": [
    {
     "name": "stdout",
     "output_type": "stream",
     "text": [
      "Average is: 10.0\n"
     ]
    }
   ],
   "source": [
    "def average(a, b, c):  \n",
    "    avg = (a + b + c) / 3\n",
    "    return avg\n",
    "\n",
    "result = average(5, 10, 15)\n",
    "print(\"Average is:\", result)\n"
   ]
  },
  {
   "cell_type": "code",
   "execution_count": 30,
   "id": "aabb672e",
   "metadata": {},
   "outputs": [
    {
     "data": {
      "text/plain": [
       "20.0"
      ]
     },
     "execution_count": 30,
     "metadata": {},
     "output_type": "execute_result"
    }
   ],
   "source": [
    "def avg(input):\n",
    "    return sum(input)/len(input)\n",
    "avg([10,20,30])"
   ]
  },
  {
   "cell_type": "code",
   "execution_count": 31,
   "id": "db3b5c1a",
   "metadata": {},
   "outputs": [
    {
     "name": "stdout",
     "output_type": "stream",
     "text": [
      "The largest number is: 89\n"
     ]
    }
   ],
   "source": [
    "def largest(a, b, c):\n",
    "    return max(a, b, c)\n",
    "\n",
    "largest = largest(25, 89, 67)\n",
    "print(\"The largest number is:\", largest)"
   ]
  },
  {
   "cell_type": "code",
   "execution_count": 7,
   "id": "dc4a1003",
   "metadata": {},
   "outputs": [
    {
     "name": "stdout",
     "output_type": "stream",
     "text": [
      "[6, 9, 12]\n"
     ]
    }
   ],
   "source": [
    "# lambda fun:-\n",
    "# anonuymous function\n",
    "def fun(ls):\n",
    "    ls1 = []\n",
    "    for i in ls:\n",
    "        ls1.append(i * 3) \n",
    "    print(ls1)\n",
    "\n",
    "ls = [2, 3, 4]  \n",
    "fun(ls)\n"
   ]
  },
  {
   "cell_type": "code",
   "execution_count": 6,
   "id": "d9fea648",
   "metadata": {},
   "outputs": [
    {
     "name": "stdout",
     "output_type": "stream",
     "text": [
      "[4, 9, 16, 25]\n"
     ]
    }
   ],
   "source": [
    "def sq(n):\n",
    "    return n*n\n",
    "l=[2,3,4,5]\n",
    "result = list(map(sq,l))\n",
    "print(result)"
   ]
  },
  {
   "cell_type": "code",
   "execution_count": 13,
   "id": "38b1a9d0",
   "metadata": {},
   "outputs": [
    {
     "name": "stdout",
     "output_type": "stream",
     "text": [
      "[4, 9, 16, 25]\n"
     ]
    }
   ],
   "source": [
    "l=[2,3,4,5]\n",
    "result = list(map(lambda n: n*n,l))\n",
    "print(result)"
   ]
  },
  {
   "cell_type": "code",
   "execution_count": 14,
   "id": "2bb11d6e",
   "metadata": {},
   "outputs": [
    {
     "name": "stdout",
     "output_type": "stream",
     "text": [
      "[2, 4]\n"
     ]
    }
   ],
   "source": [
    "l=[2,3,4,5]\n",
    "result=list(filter(lambda a :a%2==0,l))\n",
    "print(result)"
   ]
  },
  {
   "cell_type": "code",
   "execution_count": 16,
   "id": "8777fef8",
   "metadata": {},
   "outputs": [
    {
     "name": "stdout",
     "output_type": "stream",
     "text": [
      "[3, 4, 5]\n"
     ]
    }
   ],
   "source": [
    "l=[2,3,4,5]\n",
    "result=list(filter(lambda a :a>2,l))\n",
    "print(result)"
   ]
  },
  {
   "cell_type": "code",
   "execution_count": 17,
   "id": "11791d05",
   "metadata": {},
   "outputs": [
    {
     "name": "stdout",
     "output_type": "stream",
     "text": [
      "14\n"
     ]
    }
   ],
   "source": [
    "from functools import reduce\n",
    "l=[2,3,4,5]\n",
    "result = reduce(lambda a,b :a+b,l)\n",
    "print(result)"
   ]
  },
  {
   "cell_type": "code",
   "execution_count": 20,
   "id": "64c6c138",
   "metadata": {},
   "outputs": [
    {
     "name": "stdout",
     "output_type": "stream",
     "text": [
      "[(9, 2), (10, 3), (11, 4), (12, 5)]\n"
     ]
    }
   ],
   "source": [
    "# enumerate\n",
    "l=[2,3,4,5]\n",
    "result = list(enumerate(l,start=9))\n",
    "print(result)"
   ]
  },
  {
   "cell_type": "code",
   "execution_count": null,
   "id": "fa0c32db",
   "metadata": {},
   "outputs": [],
   "source": []
  }
 ],
 "metadata": {
  "kernelspec": {
   "display_name": "Python 3",
   "language": "python",
   "name": "python3"
  },
  "language_info": {
   "codemirror_mode": {
    "name": "ipython",
    "version": 3
   },
   "file_extension": ".py",
   "mimetype": "text/x-python",
   "name": "python",
   "nbconvert_exporter": "python",
   "pygments_lexer": "ipython3",
   "version": "3.12.3"
  }
 },
 "nbformat": 4,
 "nbformat_minor": 5
}
