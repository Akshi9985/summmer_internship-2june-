{
 "cells": [
  {
   "cell_type": "code",
   "execution_count": 8,
   "id": "ef5bf631",
   "metadata": {},
   "outputs": [
    {
     "name": "stdout",
     "output_type": "stream",
     "text": [
      "b is greater than a\n"
     ]
    }
   ],
   "source": [
    "a = 5\n",
    "b = 7\n",
    "if (b > a):\n",
    "    print(\"b is greater than a\")"
   ]
  },
  {
   "cell_type": "code",
   "execution_count": null,
   "id": "b8168c01",
   "metadata": {},
   "outputs": [
    {
     "name": "stdout",
     "output_type": "stream",
     "text": [
      "b is greater than a\n"
     ]
    }
   ],
   "source": [
    "a = 5\n",
    "b = 7\n",
    "if (b > a):\n",
    "    print(\"b is greater than a\")\n",
    "else:\n",
    "    print(\"a is greater than b\")"
   ]
  },
  {
   "cell_type": "code",
   "execution_count": null,
   "id": "63b97518",
   "metadata": {},
   "outputs": [
    {
     "name": "stdout",
     "output_type": "stream",
     "text": [
      "a is equals to b\n"
     ]
    }
   ],
   "source": [
    "a = 5\n",
    "b = 5\n",
    "if (b > a):\n",
    "    print(\"b is greater than a\")\n",
    "elif(a==b):\n",
    "    print(\"a is equals to b\")\n",
    "else:\n",
    "    print(\"a is greater than b\")"
   ]
  },
  {
   "cell_type": "code",
   "execution_count": 11,
   "id": "90a335f4",
   "metadata": {},
   "outputs": [
    {
     "name": "stdout",
     "output_type": "stream",
     "text": [
      "a is less than b\n",
      "b is less than c\n"
     ]
    }
   ],
   "source": [
    "a=10\n",
    "b=20\n",
    "c=30\n",
    "if(a>b):\n",
    "    print(\"a is greater than b\")\n",
    "    if(a>c):\n",
    "        print(\"a is greater than c\")\n",
    "    else:\n",
    "        print(\"a is less than c\")\n",
    "else:\n",
    "    print(\"a is less than b\")\n",
    "if(b<a):\n",
    "    print(\"b is greater than c\")\n",
    "else:\n",
    "    print(\"b is less than c\")\n",
    "\n",
    "    "
   ]
  },
  {
   "cell_type": "code",
   "execution_count": 12,
   "id": "ee2d9d0d",
   "metadata": {},
   "outputs": [
    {
     "name": "stdout",
     "output_type": "stream",
     "text": [
      "number is negative.\n"
     ]
    }
   ],
   "source": [
    "a = int(input(\"Enter a number: \"))\n",
    "\n",
    "if a > 0:\n",
    "    print(\"number is positive.\")\n",
    "elif a < 0:\n",
    "    print(\"number is negative.\")\n",
    "else:\n",
    "    print(\"number is zero.\")\n"
   ]
  },
  {
   "cell_type": "code",
   "execution_count": null,
   "id": "de261364",
   "metadata": {},
   "outputs": [],
   "source": [
    "# conditional statement : and or not\n",
    "#  True only if both conditions are True\n",
    "#  True if at least one condition is True.\n",
    "#  True becomes False, and False becomes True."
   ]
  },
  {
   "cell_type": "code",
   "execution_count": null,
   "id": "6e669646",
   "metadata": {},
   "outputs": [],
   "source": [
    "a = int(input(\"Enter a number: \"))\n",
    "\n",
    "if a % 5 == 0 or a % 11 == 0:\n",
    "    print(\"The number is divisible by 5 or 11.\")\n",
    "else:\n",
    "    print(\"The number is not divisible by 5 or 11.\")\n"
   ]
  },
  {
   "cell_type": "code",
   "execution_count": 14,
   "id": "58a8a2f1",
   "metadata": {},
   "outputs": [
    {
     "name": "stdout",
     "output_type": "stream",
     "text": [
      "character is vowel\n"
     ]
    }
   ],
   "source": [
    "a=(input(\"enter the letter\"))\n",
    "if('a','e','i','o','u'):\n",
    "    print(\"character is vowel\")\n",
    "else:\n",
    "    print(\"character is consonant\")"
   ]
  }
 ],
 "metadata": {
  "kernelspec": {
   "display_name": "Python 3",
   "language": "python",
   "name": "python3"
  },
  "language_info": {
   "codemirror_mode": {
    "name": "ipython",
    "version": 3
   },
   "file_extension": ".py",
   "mimetype": "text/x-python",
   "name": "python",
   "nbconvert_exporter": "python",
   "pygments_lexer": "ipython3",
   "version": "3.12.3"
  }
 },
 "nbformat": 4,
 "nbformat_minor": 5
}
