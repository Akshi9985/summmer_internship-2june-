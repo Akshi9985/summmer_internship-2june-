{
 "cells": [
  {
   "cell_type": "code",
   "execution_count": null,
   "id": "b4ed055d",
   "metadata": {},
   "outputs": [],
   "source": [
    "# immutable\n",
    "# ordered\n",
    "# hetrogeneous\n",
    "# Index\n",
    "# allow duplicate values\n"
   ]
  },
  {
   "cell_type": "code",
   "execution_count": 3,
   "id": "34dca258",
   "metadata": {},
   "outputs": [
    {
     "name": "stdout",
     "output_type": "stream",
     "text": [
      "('hello', 1, 2, True, 'india', 22.34)\n",
      "<class 'tuple'>\n"
     ]
    }
   ],
   "source": [
    "tpl=(\"hello\",1,2,True,\"india\",22.34)\n",
    "print(tpl)\n",
    "print(type(tpl))"
   ]
  },
  {
   "cell_type": "code",
   "execution_count": 4,
   "id": "8f761521",
   "metadata": {},
   "outputs": [
    {
     "name": "stdout",
     "output_type": "stream",
     "text": [
      "<class 'str'>\n",
      "<class 'tuple'>\n"
     ]
    }
   ],
   "source": [
    "tpl=(\"hello\")\n",
    "print(type(tpl))\n",
    "# single element tuple wit the help of add comma\n",
    "tpl=(\"hello\",)\n",
    "print(type(tpl))\n"
   ]
  },
  {
   "cell_type": "code",
   "execution_count": 5,
   "id": "7a49d5a0",
   "metadata": {},
   "outputs": [
    {
     "data": {
      "text/plain": [
       "2"
      ]
     },
     "execution_count": 5,
     "metadata": {},
     "output_type": "execute_result"
    }
   ],
   "source": [
    "tpl=(\"hello\",1,2,True,\"india\",22.34,\"hello\")\n",
    "tpl.count(1)"
   ]
  },
  {
   "cell_type": "code",
   "execution_count": 10,
   "id": "6b11868d",
   "metadata": {},
   "outputs": [
    {
     "name": "stdout",
     "output_type": "stream",
     "text": [
      "('hello', 1, 2, True, 'india', 22.34, 'hello')\n"
     ]
    }
   ],
   "source": [
    "tpl=(\"hello\",1,2,True,\"india\",22.34,\"hello\")\n",
    "tpl.index(\"hello\")\n",
    "print(tpl)"
   ]
  }
 ],
 "metadata": {
  "kernelspec": {
   "display_name": "Python 3",
   "language": "python",
   "name": "python3"
  },
  "language_info": {
   "codemirror_mode": {
    "name": "ipython",
    "version": 3
   },
   "file_extension": ".py",
   "mimetype": "text/x-python",
   "name": "python",
   "nbconvert_exporter": "python",
   "pygments_lexer": "ipython3",
   "version": "3.12.3"
  }
 },
 "nbformat": 4,
 "nbformat_minor": 5
}
