{
 "cells": [
  {
   "cell_type": "code",
   "execution_count": null,
   "id": "31f3b057",
   "metadata": {},
   "outputs": [],
   "source": [
    "# module:- a single .py file(python file)\n",
    "# packages:-a directory which contains collection of module\n",
    "# library:- collection of packages\n"
   ]
  },
  {
   "cell_type": "code",
   "execution_count": null,
   "id": "92dc9d9b",
   "metadata": {},
   "outputs": [],
   "source": [
    "# modules-- types of module:-\n",
    "# built in Module (os,datetime)\n",
    "# third party Module(pandas,numpy)\n",
    "# user defined module "
   ]
  },
  {
   "cell_type": "code",
   "execution_count": null,
   "id": "f19e43da",
   "metadata": {},
   "outputs": [],
   "source": [
    "import datetime\n",
    "from datetime import add"
   ]
  },
  {
   "cell_type": "code",
   "execution_count": 9,
   "id": "4b518d7e",
   "metadata": {},
   "outputs": [],
   "source": [
    "# test.py\n",
    "def ls():\n",
    "    print(\"This is a function called ls from test module.\")\n"
   ]
  },
  {
   "cell_type": "code",
   "execution_count": null,
   "id": "e475257f",
   "metadata": {},
   "outputs": [],
   "source": []
  },
  {
   "cell_type": "code",
   "execution_count": null,
   "id": "4376b22b",
   "metadata": {},
   "outputs": [],
   "source": []
  }
 ],
 "metadata": {
  "kernelspec": {
   "display_name": "Python 3",
   "language": "python",
   "name": "python3"
  },
  "language_info": {
   "codemirror_mode": {
    "name": "ipython",
    "version": 3
   },
   "file_extension": ".py",
   "mimetype": "text/x-python",
   "name": "python",
   "nbconvert_exporter": "python",
   "pygments_lexer": "ipython3",
   "version": "3.12.3"
  }
 },
 "nbformat": 4,
 "nbformat_minor": 5
}
