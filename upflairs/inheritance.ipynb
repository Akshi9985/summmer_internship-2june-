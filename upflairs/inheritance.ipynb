{
 "cells": [
  {
   "cell_type": "code",
   "execution_count": null,
   "id": "a2ddb8d1",
   "metadata": {},
   "outputs": [
    {
     "name": "stdout",
     "output_type": "stream",
     "text": [
      "bmw maruti\n",
      "bmw.....maruti\n"
     ]
    }
   ],
   "source": [
    "class car:\n",
    "    car1= \"bmw\"\n",
    "    car2= \"maruti\"\n",
    "    def display(self):\n",
    "        print(self.car1,self.car2)\n",
    "        \n",
    "class modifiedcar (car):\n",
    "    def add(self):\n",
    "        print(self.car1+\".....\"+self.car2)\n",
    "    def display(self):\n",
    "        print(self.car1,self.car2)\n",
    "        \n",
    "obj=modifiedcar()\n",
    "obj.display()\n",
    "obj.add()\n",
    "# single inheritance: One subclass inherits from one superclass."
   ]
  },
  {
   "cell_type": "code",
   "execution_count": null,
   "id": "53d7cf67",
   "metadata": {},
   "outputs": [
    {
     "name": "stdout",
     "output_type": "stream",
     "text": [
      "BMW Maruti\n",
      "BMW.....Maruti\n"
     ]
    }
   ],
   "source": [
    "class car1:\n",
    "    car1 = \"BMW\"\n",
    "\n",
    "class car2:\n",
    "    car2 = \"Maruti\"\n",
    "\n",
    "class modifiedcar(car1, car2):  # Inheriting from both car1 and car2\n",
    "    def display(self):\n",
    "        print(self.car1, self.car2)\n",
    "        \n",
    "    def add(self):\n",
    "        print(self.car1 + \".....\" + self.car2)\n",
    "\n",
    "obj = modifiedcar()\n",
    "obj.display()  \n",
    "obj.add()     \n",
    "# One subclass inherits from two or more superclasses."
   ]
  },
  {
   "cell_type": "code",
   "execution_count": null,
   "id": "528a9a81",
   "metadata": {},
   "outputs": [
    {
     "name": "stdout",
     "output_type": "stream",
     "text": [
      "BMW Maruti\n",
      "BMW.....Maruti\n"
     ]
    }
   ],
   "source": [
    "class car:\n",
    "    car1 = \"BMW\"\n",
    "\n",
    "class modifiedcar(car):\n",
    "    car2 = \"Maruti\"\n",
    "    \n",
    "    def display(self):\n",
    "        print(self.car1, self.car2)\n",
    "\n",
    "class finalcar(modifiedcar):\n",
    "    def add(self):\n",
    "        print(self.car1 + \".....\" + self.car2)\n",
    "\n",
    "obj = finalcar()\n",
    "obj.display() \n",
    "obj.add()  \n",
    "# Inheritance in a chain of classes.\n",
    "    "
   ]
  },
  {
   "cell_type": "code",
   "execution_count": null,
   "id": "f10ff1ca",
   "metadata": {},
   "outputs": [
    {
     "name": "stdout",
     "output_type": "stream",
     "text": [
      "Tommy makes a sound\n",
      "Tommy barks\n"
     ]
    }
   ],
   "source": [
    "# What is a Super Class in Python?\n",
    "# A superclass (also called base class or parent class) is a class that is inherited by another class.\n",
    "class Animal:   #super class\n",
    "    def __init__(self, name):\n",
    "        self.name = name\n",
    "    \n",
    "    def speak(self):\n",
    "        print(f\"{self.name} makes a sound\")\n",
    "\n",
    "class Dog(Animal):  #sub class\n",
    "    def speak(self):\n",
    "        super().speak()  # Call the superclass method\n",
    "        print(f\"{self.name} barks\")\n",
    "\n",
    "d = Dog(\"Tommy\")\n",
    "d.speak()\n",
    "        # parent class k andr mrthod bnaya h hme fr nhi bnana or hm use kr skte h in a child class\n"
   ]
  }
 ],
 "metadata": {
  "kernelspec": {
   "display_name": "Python 3",
   "language": "python",
   "name": "python3"
  },
  "language_info": {
   "codemirror_mode": {
    "name": "ipython",
    "version": 3
   },
   "file_extension": ".py",
   "mimetype": "text/x-python",
   "name": "python",
   "nbconvert_exporter": "python",
   "pygments_lexer": "ipython3",
   "version": "3.12.3"
  }
 },
 "nbformat": 4,
 "nbformat_minor": 5
}
