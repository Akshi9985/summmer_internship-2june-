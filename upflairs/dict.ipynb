{
 "cells": [
  {
   "cell_type": "code",
   "execution_count": null,
   "id": "87eae320",
   "metadata": {},
   "outputs": [],
   "source": [
    "# orderd\n",
    "# mutable\n",
    "# indexed\n",
    "# do not allow duplicate values\n",
    "# key valur pairs k andr hota h\n",
    "# {}"
   ]
  },
  {
   "cell_type": "code",
   "execution_count": 5,
   "id": "32e193bf",
   "metadata": {},
   "outputs": [
    {
     "name": "stdout",
     "output_type": "stream",
     "text": [
      "{'name': 'akshika', 'course': 'genai', 'duration': 45}\n",
      "<class 'dict'>\n"
     ]
    }
   ],
   "source": [
    "dt = {\n",
    "    \"name\": \"akshika\",\n",
    "    \"course\": \"genai\",\n",
    "    \"duration\": 45\n",
    "}\n",
    "print(dt)\n",
    "\n",
    "print(type(dt))"
   ]
  },
  {
   "cell_type": "code",
   "execution_count": 7,
   "id": "eb251141",
   "metadata": {},
   "outputs": [
    {
     "name": "stdout",
     "output_type": "stream",
     "text": [
      "{'name': 'up', 'course': 'genai', 'duration': 45}\n"
     ]
    }
   ],
   "source": [
    "dt[\"name\"]=\"up\"\n",
    "print(dt)"
   ]
  },
  {
   "cell_type": "code",
   "execution_count": 8,
   "id": "1a95f315",
   "metadata": {},
   "outputs": [
    {
     "data": {
      "text/plain": [
       "'up'"
      ]
     },
     "execution_count": 8,
     "metadata": {},
     "output_type": "execute_result"
    }
   ],
   "source": [
    "dt.get(\"name\")"
   ]
  },
  {
   "cell_type": "code",
   "execution_count": 9,
   "id": "2c5704ce",
   "metadata": {},
   "outputs": [
    {
     "data": {
      "text/plain": [
       "dict_items([('name', 'up'), ('course', 'genai'), ('duration', 45)])"
      ]
     },
     "execution_count": 9,
     "metadata": {},
     "output_type": "execute_result"
    }
   ],
   "source": [
    "dt.items()"
   ]
  },
  {
   "cell_type": "code",
   "execution_count": 10,
   "id": "eaf7b4bb",
   "metadata": {},
   "outputs": [
    {
     "data": {
      "text/plain": [
       "dict_keys(['name', 'course', 'duration'])"
      ]
     },
     "execution_count": 10,
     "metadata": {},
     "output_type": "execute_result"
    }
   ],
   "source": [
    "dt.keys()"
   ]
  },
  {
   "cell_type": "code",
   "execution_count": 11,
   "id": "50079254",
   "metadata": {},
   "outputs": [
    {
     "data": {
      "text/plain": [
       "dict_values(['up', 'genai', 45])"
      ]
     },
     "execution_count": 11,
     "metadata": {},
     "output_type": "execute_result"
    }
   ],
   "source": [
    "dt.values()"
   ]
  },
  {
   "cell_type": "code",
   "execution_count": 17,
   "id": "68a7257e",
   "metadata": {},
   "outputs": [
    {
     "data": {
      "text/plain": [
       "'akshika'"
      ]
     },
     "execution_count": 17,
     "metadata": {},
     "output_type": "execute_result"
    }
   ],
   "source": [
    "dt = {\n",
    "    \"name\": \"akshika\",\n",
    "    \"course\": \"genai\",\n",
    "    \"duration\": 45\n",
    "}\n",
    "dt.pop(\"name\")"
   ]
  },
  {
   "cell_type": "code",
   "execution_count": 18,
   "id": "d0d417ce",
   "metadata": {},
   "outputs": [
    {
     "data": {
      "text/plain": [
       "('duration', 45)"
      ]
     },
     "execution_count": 18,
     "metadata": {},
     "output_type": "execute_result"
    }
   ],
   "source": [
    "dt.popitem()"
   ]
  },
  {
   "cell_type": "code",
   "execution_count": 26,
   "id": "f5958784",
   "metadata": {},
   "outputs": [
    {
     "name": "stdout",
     "output_type": "stream",
     "text": [
      "{'name': 'akshi', 'course': 'genai', 'duration': 10}\n"
     ]
    }
   ],
   "source": [
    "dt = {\n",
    "    \"name\": \"akshika\",\n",
    "    \"course\": \"genai\",\n",
    "    \"duration\": 45\n",
    "}\n",
    "dt.update({\"name\": \"akshi\", \"duration\": 10})\n",
    "print(dt)"
   ]
  }
 ],
 "metadata": {
  "kernelspec": {
   "display_name": "Python 3",
   "language": "python",
   "name": "python3"
  },
  "language_info": {
   "codemirror_mode": {
    "name": "ipython",
    "version": 3
   },
   "file_extension": ".py",
   "mimetype": "text/x-python",
   "name": "python",
   "nbconvert_exporter": "python",
   "pygments_lexer": "ipython3",
   "version": "3.12.3"
  }
 },
 "nbformat": 4,
 "nbformat_minor": 5
}
