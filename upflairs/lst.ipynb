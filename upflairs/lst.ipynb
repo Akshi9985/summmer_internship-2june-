{
 "cells": [
  {
   "cell_type": "code",
   "execution_count": null,
   "id": "aff6da02",
   "metadata": {},
   "outputs": [],
   "source": [
    "# list= collection of items\n",
    "# mutable\n",
    "# indexing\n",
    "# hetrogeneous - mixed data type\n",
    "# allow duplicate keys"
   ]
  },
  {
   "cell_type": "code",
   "execution_count": 2,
   "id": "e073d55e",
   "metadata": {},
   "outputs": [
    {
     "name": "stdout",
     "output_type": "stream",
     "text": [
      "hello\n"
     ]
    }
   ],
   "source": [
    "print(\"hello\")"
   ]
  },
  {
   "cell_type": "code",
   "execution_count": 5,
   "id": "ee954f61",
   "metadata": {},
   "outputs": [
    {
     "name": "stdout",
     "output_type": "stream",
     "text": [
      "[1, 2, 'hello', 33.45, 'python', True]\n",
      "<class 'list'>\n"
     ]
    }
   ],
   "source": [
    "lst=[1,2,\"hello\",33.45,\"python\",True]\n",
    "print(lst)\n",
    "print(type(lst))"
   ]
  },
  {
   "cell_type": "code",
   "execution_count": 21,
   "id": "a992ad74",
   "metadata": {},
   "outputs": [
    {
     "name": "stdout",
     "output_type": "stream",
     "text": [
      "hello\n"
     ]
    }
   ],
   "source": [
    "lst=[1,2,\"hello\",33.45,\"python\",True]\n",
    "print(lst[2])"
   ]
  },
  {
   "cell_type": "code",
   "execution_count": 19,
   "id": "5819b636",
   "metadata": {},
   "outputs": [
    {
     "name": "stdout",
     "output_type": "stream",
     "text": [
      "2\n",
      "1\n"
     ]
    }
   ],
   "source": [
    "lst=[1,2,\"hello\",33.45,\"python\",True]\n",
    "print(lst.index(\"hello\"))  \n",
    "\n",
    "print(lst.index(2))"
   ]
  },
  {
   "cell_type": "code",
   "execution_count": 22,
   "id": "69548d87",
   "metadata": {},
   "outputs": [
    {
     "name": "stdout",
     "output_type": "stream",
     "text": [
      "6\n"
     ]
    }
   ],
   "source": [
    "print(len(lst))"
   ]
  },
  {
   "cell_type": "code",
   "execution_count": 29,
   "id": "6d918187",
   "metadata": {},
   "outputs": [
    {
     "name": "stdout",
     "output_type": "stream",
     "text": [
      "['pink', 'yellow', 'green', 'blue']\n",
      "['black', 'white', 'brown', 'green', 'blue']\n"
     ]
    }
   ],
   "source": [
    "lst=[\"red\",\"yellow\",\"green\",\"blue\"]\n",
    "lst[0]=\"pink\"\n",
    "print(lst)\n",
    "lst[0:2]=[\"black\",\"white\",\"brown\"]\n",
    "print(lst)"
   ]
  },
  {
   "cell_type": "code",
   "execution_count": 30,
   "id": "cc3407c1",
   "metadata": {},
   "outputs": [
    {
     "data": {
      "text/plain": [
       "2"
      ]
     },
     "execution_count": 30,
     "metadata": {},
     "output_type": "execute_result"
    }
   ],
   "source": [
    "lst=[\"red\",\"yellow\",\"green\",\"blue\",\"green\"]\n",
    "lst.count(\"green\")"
   ]
  },
  {
   "cell_type": "code",
   "execution_count": 31,
   "id": "ecaf5b6a",
   "metadata": {},
   "outputs": [
    {
     "name": "stdout",
     "output_type": "stream",
     "text": [
      "['red', 'yellow', 'green', 'blue', 'green']\n"
     ]
    }
   ],
   "source": [
    "lst2=lst.copy()\n",
    "print(lst2)"
   ]
  },
  {
   "cell_type": "code",
   "execution_count": 32,
   "id": "3e97edfa",
   "metadata": {},
   "outputs": [
    {
     "name": "stdout",
     "output_type": "stream",
     "text": [
      "[]\n"
     ]
    }
   ],
   "source": [
    "lst.clear()\n",
    "print(lst)"
   ]
  },
  {
   "cell_type": "code",
   "execution_count": 33,
   "id": "de0fe24a",
   "metadata": {},
   "outputs": [
    {
     "ename": "NameError",
     "evalue": "name 'lst' is not defined",
     "output_type": "error",
     "traceback": [
      "\u001b[31m---------------------------------------------------------------------------\u001b[39m",
      "\u001b[31mNameError\u001b[39m                                 Traceback (most recent call last)",
      "\u001b[36mCell\u001b[39m\u001b[36m \u001b[39m\u001b[32mIn[33]\u001b[39m\u001b[32m, line 2\u001b[39m\n\u001b[32m      1\u001b[39m \u001b[38;5;28;01mdel\u001b[39;00m lst\n\u001b[32m----> \u001b[39m\u001b[32m2\u001b[39m \u001b[38;5;28mprint\u001b[39m(\u001b[43mlst\u001b[49m)\n",
      "\u001b[31mNameError\u001b[39m: name 'lst' is not defined"
     ]
    }
   ],
   "source": [
    "del lst\n",
    "print(lst)"
   ]
  },
  {
   "cell_type": "code",
   "execution_count": null,
   "id": "e732347e",
   "metadata": {},
   "outputs": [],
   "source": [
    "# clear vs delete\n",
    "# clear-delete items\n",
    "# delete - delete list"
   ]
  },
  {
   "cell_type": "code",
   "execution_count": 1,
   "id": "2dae9f31",
   "metadata": {},
   "outputs": [
    {
     "name": "stdout",
     "output_type": "stream",
     "text": [
      "['blue', 'green', 'green', 'red', 'yellow']\n"
     ]
    }
   ],
   "source": [
    "lst=[\"red\",\"yellow\",\"green\",\"blue\",\"green\"]\n",
    "lst.sort()\n",
    "print(lst)"
   ]
  },
  {
   "cell_type": "code",
   "execution_count": 3,
   "id": "4038c0f2",
   "metadata": {},
   "outputs": [
    {
     "name": "stdout",
     "output_type": "stream",
     "text": [
      "['yellow', 'red', 'green', 'green', 'blue']\n"
     ]
    }
   ],
   "source": [
    "lst=[\"red\",\"yellow\",\"green\",\"blue\",\"green\"]\n",
    "lst.sort(reverse=True)\n",
    "lst.reverse\n",
    "print(lst)"
   ]
  },
  {
   "cell_type": "code",
   "execution_count": 9,
   "id": "aba7baf3",
   "metadata": {},
   "outputs": [
    {
     "name": "stdout",
     "output_type": "stream",
     "text": [
      "['red', 'yellow', 'green', 'blue', 'green', 'white']\n"
     ]
    }
   ],
   "source": [
    "lst = [\"red\", \"yellow\", \"green\", \"blue\", \"green\"]\n",
    "lst.append(\"white\")\n",
    "print(lst)\n"
   ]
  },
  {
   "cell_type": "code",
   "execution_count": 11,
   "id": "04dade6a",
   "metadata": {},
   "outputs": [
    {
     "name": "stdout",
     "output_type": "stream",
     "text": [
      "['red', 'yellow', 'green', 'blue', 'green', 'black', 'white']\n"
     ]
    }
   ],
   "source": [
    "lst=[\"red\",\"yellow\",\"green\",\"blue\",\"green\"]\n",
    "lst.extend([\"black\",\"white\"])\n",
    "print(lst)"
   ]
  },
  {
   "cell_type": "code",
   "execution_count": 13,
   "id": "2a0db280",
   "metadata": {},
   "outputs": [
    {
     "name": "stdout",
     "output_type": "stream",
     "text": [
      "['red', 'yellow', 'green', 'red', 'blue', 'green', 'black', 'white']\n"
     ]
    }
   ],
   "source": [
    "lst.insert(3,\"red\")\n",
    "print(lst)"
   ]
  },
  {
   "cell_type": "code",
   "execution_count": 15,
   "id": "6553a736",
   "metadata": {},
   "outputs": [
    {
     "name": "stdout",
     "output_type": "stream",
     "text": [
      "['yellow', 'green', 'blue', 'green', 'black', 'white']\n"
     ]
    }
   ],
   "source": [
    "lst.remove(\"red\")\n",
    "print(lst)"
   ]
  },
  {
   "cell_type": "code",
   "execution_count": 18,
   "id": "d32ffaf4",
   "metadata": {},
   "outputs": [
    {
     "name": "stdout",
     "output_type": "stream",
     "text": [
      "['blue', 'green', 'black', 'white']\n"
     ]
    }
   ],
   "source": [
    "lst.pop(0)\n",
    "print(lst)"
   ]
  },
  {
   "cell_type": "code",
   "execution_count": null,
   "id": "27d59585",
   "metadata": {},
   "outputs": [],
   "source": []
  },
  {
   "cell_type": "code",
   "execution_count": null,
   "id": "7a49269d",
   "metadata": {},
   "outputs": [],
   "source": []
  }
 ],
 "metadata": {
  "kernelspec": {
   "display_name": "Python 3",
   "language": "python",
   "name": "python3"
  },
  "language_info": {
   "codemirror_mode": {
    "name": "ipython",
    "version": 3
   },
   "file_extension": ".py",
   "mimetype": "text/x-python",
   "name": "python",
   "nbconvert_exporter": "python",
   "pygments_lexer": "ipython3",
   "version": "3.12.3"
  }
 },
 "nbformat": 4,
 "nbformat_minor": 5
}
