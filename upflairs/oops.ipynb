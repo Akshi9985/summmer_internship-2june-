{
 "cells": [
  {
   "cell_type": "code",
   "execution_count": null,
   "id": "b4b64251",
   "metadata": {},
   "outputs": [],
   "source": [
    "oops\n",
    "abstraction\n",
    "encapsulation\n",
    "inheritance=single,multiple,multilevel,hybrid"
   ]
  },
  {
   "cell_type": "code",
   "execution_count": null,
   "id": "b9b331e0",
   "metadata": {},
   "outputs": [],
   "source": [
    "# class is blueprint of creaing objects\n",
    "# object is instance of class\n",
    "# instance:- is a copy of class that you can use\n"
   ]
  },
  {
   "cell_type": "code",
   "execution_count": null,
   "id": "d24f9987",
   "metadata": {},
   "outputs": [],
   "source": [
    "# recipe\n",
    "# instance:- "
   ]
  },
  {
   "cell_type": "code",
   "execution_count": null,
   "id": "55084439",
   "metadata": {},
   "outputs": [
    {
     "name": "stdout",
     "output_type": "stream",
     "text": [
      "100 200\n",
      "300\n"
     ]
    }
   ],
   "source": [
    "class car:\n",
    "    num1=100\n",
    "    num2=200\n",
    "    # class k andr method or properties ko access krna hai to object k through krte h\n",
    "\n",
    "    def add(self):\n",
    "        print(self.num1+self.num2)\n",
    "    def display(self):\n",
    "        print(self.num1,self.num2)\n",
    "        \n",
    "# creating object agr aapko class ke bahar\n",
    "# class k bahr method or properties ko access krna hai to object k through krte h\n",
    "obj=car()\n",
    "obj.display()\n",
    "obj.add()\n",
    "\n",
    "\n",
    "        "
   ]
  },
  {
   "cell_type": "code",
   "execution_count": 4,
   "id": "16b60944",
   "metadata": {},
   "outputs": [],
   "source": [
    "# method,function\n",
    "# function:-def is function create\n",
    "# method:- class k andr function bnate h uska name change ho jata h"
   ]
  },
  {
   "cell_type": "code",
   "execution_count": 5,
   "id": "24e3b41f",
   "metadata": {},
   "outputs": [
    {
     "data": {
      "text/plain": [
       "<function list.remove(value, /)>"
      ]
     },
     "execution_count": 5,
     "metadata": {},
     "output_type": "execute_result"
    }
   ],
   "source": [
    "lst=[1,2,3]\n",
    "lst.remove #method"
   ]
  },
  {
   "cell_type": "code",
   "execution_count": null,
   "id": "8e431046",
   "metadata": {},
   "outputs": [],
   "source": [
    "# constructor:- is a special method that is called\n",
    "# used to initialize the object\n",
    "# __init__"
   ]
  },
  {
   "cell_type": "code",
   "execution_count": 2,
   "id": "5d01df96",
   "metadata": {},
   "outputs": [
    {
     "ename": "AttributeError",
     "evalue": "'number' object has no attribute 'display'",
     "output_type": "error",
     "traceback": [
      "\u001b[31m---------------------------------------------------------------------------\u001b[39m",
      "\u001b[31mAttributeError\u001b[39m                            Traceback (most recent call last)",
      "\u001b[36mCell\u001b[39m\u001b[36m \u001b[39m\u001b[32mIn[2]\u001b[39m\u001b[32m, line 10\u001b[39m\n\u001b[32m      8\u001b[39m             \u001b[38;5;28mprint\u001b[39m(\u001b[38;5;28mself\u001b[39m.num1,\u001b[38;5;28mself\u001b[39m.num2)\n\u001b[32m      9\u001b[39m obj=number(\u001b[32m5\u001b[39m,\u001b[32m6\u001b[39m)\n\u001b[32m---> \u001b[39m\u001b[32m10\u001b[39m \u001b[43mobj\u001b[49m\u001b[43m.\u001b[49m\u001b[43mdisplay\u001b[49m()\n\u001b[32m     11\u001b[39m obj.add()\n",
      "\u001b[31mAttributeError\u001b[39m: 'number' object has no attribute 'display'"
     ]
    }
   ],
   "source": [
    "class number:\n",
    "    def __init__(self,num1,num2):\n",
    "        self.num1=num1\n",
    "        self.num2=num2\n",
    "        def add(self):\n",
    "            print(self.num1+self.num2)\n",
    "        def display(self):\n",
    "            print(self.num1,self.num2)\n",
    "obj=number(5,6)\n",
    "obj.display()\n",
    "obj.add()\n",
    "    "
   ]
  },
  {
   "cell_type": "code",
   "execution_count": 3,
   "id": "3b89c8ac",
   "metadata": {},
   "outputs": [
    {
     "name": "stdout",
     "output_type": "stream",
     "text": [
      "bmw maruti\n",
      "bmw.....maruti\n"
     ]
    }
   ],
   "source": [
    "class car:\n",
    "    car1= \"bmw\"\n",
    "    car2= \"maruti\"\n",
    "    def display(self):\n",
    "        print(self.car1,self.car2)\n",
    "        \n",
    "class modifiedcar (car):\n",
    "    def add(self):\n",
    "        print(self.car1+\".....\"+self.car2)\n",
    "    def display(self):\n",
    "        print(self.car1,self.car2)\n",
    "        \n",
    "obj=modifiedcar()\n",
    "obj.display()\n",
    "obj.add()\n"
   ]
  },
  {
   "cell_type": "code",
   "execution_count": null,
   "id": "0303dc86",
   "metadata": {},
   "outputs": [],
   "source": [
    "##super keyword\n",
    "#multiple\n",
    "#multilevel"
   ]
  }
 ],
 "metadata": {
  "kernelspec": {
   "display_name": "Python 3",
   "language": "python",
   "name": "python3"
  },
  "language_info": {
   "codemirror_mode": {
    "name": "ipython",
    "version": 3
   },
   "file_extension": ".py",
   "mimetype": "text/x-python",
   "name": "python",
   "nbconvert_exporter": "python",
   "pygments_lexer": "ipython3",
   "version": "3.12.3"
  }
 },
 "nbformat": 4,
 "nbformat_minor": 5
}
